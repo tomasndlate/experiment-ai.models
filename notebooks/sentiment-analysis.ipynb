{
 "cells": [
  {
   "cell_type": "markdown",
   "metadata": {},
   "source": [
    "# Sentiment Analysis Model"
   ]
  },
  {
   "cell_type": "markdown",
   "metadata": {},
   "source": [
    "### 1. Load Environments keys"
   ]
  },
  {
   "cell_type": "code",
   "execution_count": null,
   "metadata": {},
   "outputs": [
    {
     "name": "stdout",
     "output_type": "stream",
     "text": [
      "Step 1: Load Environments keys\n",
      "Environments keys loaded successfully.\n",
      "Step 2: Import dependencies\n",
      "Dependencies imported successfully.\n"
     ]
    }
   ],
   "source": [
    "# Load Environments keys\n",
    "from dotenv import load_dotenv\n",
    "load_dotenv()\n",
    "print(\"Environments keys loaded successfully.\")\n",
    "\n",
    "# Import dependencies\n",
    "print(\"Step 2: Import dependencies\")\n",
    "## OS\n",
    "import os\n",
    "## Kaggle\n",
    "from kaggle.api.kaggle_api_extended import KaggleApi\n",
    "## ML Common packages\n",
    "import pandas as pd\n",
    "## Scikit Learn\n",
    "from sklearn.feature_extraction.text import CountVectorizer\n",
    "from sklearn.naive_bayes import MultinomialNB\n",
    "from sklearn.pipeline import Pipeline\n",
    "## Export model package\n",
    "import joblib\n",
    "print(\"Dependencies imported successfully.\")"
   ]
  },
  {
   "cell_type": "markdown",
   "metadata": {},
   "source": [
    "### 2. Open connection and authenticate"
   ]
  },
  {
   "cell_type": "code",
   "execution_count": 2,
   "metadata": {},
   "outputs": [
    {
     "name": "stdout",
     "output_type": "stream",
     "text": [
      "Authenticated to Kaggle successfully.\n"
     ]
    }
   ],
   "source": [
    "kaggle_api = KaggleApi()\n",
    "kaggle_api.authenticate()\n",
    "print(\"Authenticated to Kaggle successfully.\")"
   ]
  },
  {
   "cell_type": "markdown",
   "metadata": {},
   "source": [
    "### 3. Download dataset"
   ]
  },
  {
   "cell_type": "code",
   "execution_count": 3,
   "metadata": {},
   "outputs": [
    {
     "name": "stdout",
     "output_type": "stream",
     "text": [
      "Dataset URL: https://www.kaggle.com/datasets/purusinghvi/email-spam-classification-dataset\n",
      "Datasets downloaded successfully.\n"
     ]
    }
   ],
   "source": [
    "kaggle_api.dataset_download_files('purusinghvi/email-spam-classification-dataset', path='data/', unzip=True)\n",
    "print(\"Datasets downloaded successfully.\")"
   ]
  },
  {
   "cell_type": "markdown",
   "metadata": {},
   "source": [
    "### 4. Load and manipulate datasets"
   ]
  },
  {
   "cell_type": "code",
   "execution_count": 4,
   "metadata": {},
   "outputs": [
    {
     "name": "stdout",
     "output_type": "stream",
     "text": [
      "Datasets loaded and manipulated successfully.\n"
     ]
    }
   ],
   "source": [
    "df = pd.read_csv(\"data/combined_data.csv\")\n",
    "X, y = df['text'], df['label']\n",
    "\n",
    "print(\"Datasets loaded and manipulated successfully.\")"
   ]
  },
  {
   "cell_type": "markdown",
   "metadata": {},
   "source": [
    "### 5. Create and fit pipeline"
   ]
  },
  {
   "cell_type": "code",
   "execution_count": 5,
   "metadata": {},
   "outputs": [
    {
     "name": "stdout",
     "output_type": "stream",
     "text": [
      "Pipeline created and fitted successfully.\n"
     ]
    }
   ],
   "source": [
    "## Vectorizer\n",
    "vectorizer = CountVectorizer()\n",
    "## Model\n",
    "model = MultinomialNB()\n",
    "## Pipeline\n",
    "pipeline = Pipeline([\n",
    "    ('vectorizer', vectorizer),\n",
    "    ('model', model)\n",
    "])\n",
    "## Fit model\n",
    "pipeline.fit(X, y)\n",
    "print(\"Pipeline created and fitted successfully.\")"
   ]
  },
  {
   "cell_type": "markdown",
   "metadata": {},
   "source": [
    "### 6. Export model"
   ]
  },
  {
   "cell_type": "code",
   "execution_count": null,
   "metadata": {},
   "outputs": [
    {
     "name": "stdout",
     "output_type": "stream",
     "text": [
      "Model exported successfully.\n"
     ]
    }
   ],
   "source": [
    "os.makedirs('models', exist_ok=True) # Create models folder if it doesn't exist\n",
    "joblib.dump(pipeline, 'models/spam_model_pipeline.joblib')\n",
    "\n",
    "print(\"Model exported successfully.\")"
   ]
  },
  {
   "cell_type": "markdown",
   "metadata": {},
   "source": [
    "🎉 Notebook completed successfully! 🎉"
   ]
  }
 ],
 "metadata": {
  "kernelspec": {
   "display_name": ".venv",
   "language": "python",
   "name": "python3"
  },
  "language_info": {
   "codemirror_mode": {
    "name": "ipython",
    "version": 3
   },
   "file_extension": ".py",
   "mimetype": "text/x-python",
   "name": "python",
   "nbconvert_exporter": "python",
   "pygments_lexer": "ipython3",
   "version": "3.8.5"
  }
 },
 "nbformat": 4,
 "nbformat_minor": 2
}
